{
 "cells": [
  {
   "cell_type": "markdown",
   "metadata": {},
   "source": [
    "Topic: Challenge Set 1\n",
    "Subject: Explore MTA turnstile data\n",
    "Date: 7/6/2020\n",
    "Name: Anterra Kennedy\n",
    "Worked with: Nick Horton, Sasha Prokhorova"
   ]
  },
  {
   "cell_type": "markdown",
   "metadata": {},
   "source": [
    "### **Challenge 1**"
   ]
  },
  {
   "cell_type": "code",
   "execution_count": 1,
   "metadata": {},
   "outputs": [],
   "source": [
    "import numpy as np\n",
    "import pandas as pd\n",
    "import matplotlib.pyplot as plt\n",
    "import seaborn as sns\n",
    "%matplotlib inline\n",
    "pd.set_option(\"display.max_columns\", None)\n",
    "pd.set_option(\"display.max_rows\", 100)\n",
    "pd.set_option(\"display.precision\", 3)\n",
    "pd.set_option('display.float_format', lambda x: '%.1f' % x)"
   ]
  },
  {
   "cell_type": "code",
   "execution_count": 22,
   "metadata": {},
   "outputs": [],
   "source": [
    "# Source: http://web.mta.info/developers/turnstile.html\n",
    "def get_data(week_nums):\n",
    "    url = \"http://web.mta.info/developers/data/nyct/turnstile/turnstile_{}.txt\"\n",
    "    dfs = []\n",
    "    for week_num in week_nums:\n",
    "        file_url = url.format(week_num)\n",
    "        dfs.append(pd.read_csv(file_url))\n",
    "    return pd.concat(dfs)\n",
    "        \n",
    "# weeks: sept 7th to december 7th, 2019    \n",
    "week_nums = [190907, 190914, 190921]\n",
    "df = get_data(week_nums)"
   ]
  },
  {
   "cell_type": "markdown",
   "metadata": {},
   "source": [
    "### **Challenge 2**"
   ]
  },
  {
   "cell_type": "code",
   "execution_count": 23,
   "metadata": {},
   "outputs": [],
   "source": [
    "df[\"DATETIME\"] = pd.to_datetime(df[\"DATE\"] + \" \" + df[\"TIME\"], format=\"%m/%d/%Y %H:%M:%S\")"
   ]
  },
  {
   "cell_type": "code",
   "execution_count": 24,
   "metadata": {},
   "outputs": [],
   "source": [
    "df[\"DATE\"] = pd.to_datetime(df[\"DATE\"], format=\"%m/%d/%Y\")\n",
    "df[\"TIME\"] = pd.to_datetime(df[\"TIME\"])"
   ]
  },
  {
   "cell_type": "markdown",
   "metadata": {},
   "source": [
    "### **Challenge 3**"
   ]
  },
  {
   "cell_type": "code",
   "execution_count": 25,
   "metadata": {},
   "outputs": [],
   "source": [
    "df.rename(columns={'EXITS                                                               ':\"EXITS\"}, inplace=True)"
   ]
  },
  {
   "cell_type": "code",
   "execution_count": 26,
   "metadata": {},
   "outputs": [],
   "source": [
    "df.reset_index(inplace=True)\n",
    "real_entries = df.groupby([\"C/A\", \"UNIT\", \"SCP\"]).agg({\"ENTRIES\": \"diff\"})\n",
    "real_exits = df.groupby([\"C/A\", \"UNIT\", \"SCP\"]).agg({\"EXITS\": \"diff\"})"
   ]
  },
  {
   "cell_type": "code",
   "execution_count": 27,
   "metadata": {
    "scrolled": false
   },
   "outputs": [],
   "source": [
    "df[\"REAL_ENTRIES\"] = real_entries[\"ENTRIES\"]\n",
    "df[\"REAL_EXITS\"] = real_exits[\"EXITS\"]"
   ]
  },
  {
   "cell_type": "code",
   "execution_count": 28,
   "metadata": {},
   "outputs": [],
   "source": [
    "df = df.loc[df[\"REAL_ENTRIES\"] >= 0]\n",
    "df = df.loc[df[\"REAL_EXITS\"] >= 0]"
   ]
  },
  {
   "cell_type": "code",
   "execution_count": 29,
   "metadata": {},
   "outputs": [],
   "source": [
    "station_averages = df.groupby([\"STATION\", \"LINENAME\"])[[\"REAL_ENTRIES\", \"REAL_EXITS\"]].median()\n",
    "station_averages.reset_index(inplace=True)"
   ]
  },
  {
   "cell_type": "code",
   "execution_count": 30,
   "metadata": {},
   "outputs": [],
   "source": [
    "station_averages.rename(columns={\"REAL_ENTRIES\":\"AVERAGE_ENTRIES\"}, inplace=True)\n",
    "station_averages.rename(columns={\"REAL_EXITS\":\"AVERAGE_EXITS\"}, inplace=True)"
   ]
  },
  {
   "cell_type": "code",
   "execution_count": 31,
   "metadata": {},
   "outputs": [],
   "source": [
    "df = pd.merge(left=df, right=station_averages, left_on=[\"STATION\", \"LINENAME\"], right_on=[\"STATION\", \"LINENAME\"])"
   ]
  },
  {
   "cell_type": "code",
   "execution_count": 32,
   "metadata": {},
   "outputs": [],
   "source": [
    "df = df.loc[df[\"REAL_ENTRIES\"] < 100*df[\"AVERAGE_ENTRIES\"]]\n",
    "df = df.loc[df[\"REAL_EXITS\"] < 100*df[\"AVERAGE_EXITS\"]]"
   ]
  },
  {
   "cell_type": "code",
   "execution_count": null,
   "metadata": {},
   "outputs": [],
   "source": []
  },
  {
   "cell_type": "code",
   "execution_count": null,
   "metadata": {},
   "outputs": [],
   "source": []
  },
  {
   "cell_type": "code",
   "execution_count": null,
   "metadata": {},
   "outputs": [],
   "source": []
  },
  {
   "cell_type": "markdown",
   "metadata": {},
   "source": [
    "### **Challenge 9**"
   ]
  },
  {
   "cell_type": "code",
   "execution_count": 33,
   "metadata": {},
   "outputs": [],
   "source": [
    "df[\"TRAFFIC\"] = df[\"REAL_ENTRIES\"] + df[\"REAL_EXITS\"]"
   ]
  },
  {
   "cell_type": "code",
   "execution_count": 34,
   "metadata": {},
   "outputs": [],
   "source": [
    "total_station_traffic = df.groupby([\"STATION\", \"LINENAME\"])[[\"TRAFFIC\"]].sum()\n",
    "total_station_traffic.reset_index(inplace=True)"
   ]
  },
  {
   "cell_type": "code",
   "execution_count": 35,
   "metadata": {},
   "outputs": [
    {
     "data": {
      "text/html": [
       "<div>\n",
       "<style scoped>\n",
       "    .dataframe tbody tr th:only-of-type {\n",
       "        vertical-align: middle;\n",
       "    }\n",
       "\n",
       "    .dataframe tbody tr th {\n",
       "        vertical-align: top;\n",
       "    }\n",
       "\n",
       "    .dataframe thead th {\n",
       "        text-align: right;\n",
       "    }\n",
       "</style>\n",
       "<table border=\"1\" class=\"dataframe\">\n",
       "  <thead>\n",
       "    <tr style=\"text-align: right;\">\n",
       "      <th></th>\n",
       "      <th>STATION</th>\n",
       "      <th>LINENAME</th>\n",
       "      <th>TRAFFIC</th>\n",
       "    </tr>\n",
       "  </thead>\n",
       "  <tbody>\n",
       "    <tr>\n",
       "      <th>311</th>\n",
       "      <td>GRD CNTRL-42 ST</td>\n",
       "      <td>4567S</td>\n",
       "      <td>4674682.0</td>\n",
       "    </tr>\n",
       "    <tr>\n",
       "      <th>89</th>\n",
       "      <td>34 ST-HERALD SQ</td>\n",
       "      <td>BDFMNQRW</td>\n",
       "      <td>4135182.0</td>\n",
       "    </tr>\n",
       "    <tr>\n",
       "      <th>93</th>\n",
       "      <td>34 ST-PENN STA</td>\n",
       "      <td>ACE</td>\n",
       "      <td>2813152.0</td>\n",
       "    </tr>\n",
       "    <tr>\n",
       "      <th>102</th>\n",
       "      <td>42 ST-PORT AUTH</td>\n",
       "      <td>ACENQRS1237W</td>\n",
       "      <td>2601006.0</td>\n",
       "    </tr>\n",
       "    <tr>\n",
       "      <th>28</th>\n",
       "      <td>14 ST-UNION SQ</td>\n",
       "      <td>LNQR456W</td>\n",
       "      <td>2462741.0</td>\n",
       "    </tr>\n",
       "    <tr>\n",
       "      <th>441</th>\n",
       "      <td>TIMES SQ-42 ST</td>\n",
       "      <td>1237ACENQRSW</td>\n",
       "      <td>2301817.0</td>\n",
       "    </tr>\n",
       "    <tr>\n",
       "      <th>301</th>\n",
       "      <td>FULTON ST</td>\n",
       "      <td>2345ACJZ</td>\n",
       "      <td>2158137.0</td>\n",
       "    </tr>\n",
       "    <tr>\n",
       "      <th>288</th>\n",
       "      <td>FLUSHING-MAIN</td>\n",
       "      <td>7</td>\n",
       "      <td>2100806.0</td>\n",
       "    </tr>\n",
       "    <tr>\n",
       "      <th>106</th>\n",
       "      <td>47-50 STS ROCK</td>\n",
       "      <td>BDFM</td>\n",
       "      <td>2048829.0</td>\n",
       "    </tr>\n",
       "    <tr>\n",
       "      <th>125</th>\n",
       "      <td>59 ST COLUMBUS</td>\n",
       "      <td>ABCD1</td>\n",
       "      <td>2014126.0</td>\n",
       "    </tr>\n",
       "    <tr>\n",
       "      <th>399</th>\n",
       "      <td>PATH NEW WTC</td>\n",
       "      <td>1</td>\n",
       "      <td>1780716.0</td>\n",
       "    </tr>\n",
       "    <tr>\n",
       "      <th>338</th>\n",
       "      <td>JKSN HT-ROOSVLT</td>\n",
       "      <td>EFMR7</td>\n",
       "      <td>1645401.0</td>\n",
       "    </tr>\n",
       "    <tr>\n",
       "      <th>452</th>\n",
       "      <td>W 4 ST-WASH SQ</td>\n",
       "      <td>ABCDEFM</td>\n",
       "      <td>1622765.0</td>\n",
       "    </tr>\n",
       "    <tr>\n",
       "      <th>92</th>\n",
       "      <td>34 ST-PENN STA</td>\n",
       "      <td>123ACE</td>\n",
       "      <td>1611276.0</td>\n",
       "    </tr>\n",
       "    <tr>\n",
       "      <th>156</th>\n",
       "      <td>86 ST</td>\n",
       "      <td>456</td>\n",
       "      <td>1543282.0</td>\n",
       "    </tr>\n",
       "    <tr>\n",
       "      <th>234</th>\n",
       "      <td>CANAL ST</td>\n",
       "      <td>JNQRZ6W</td>\n",
       "      <td>1540584.0</td>\n",
       "    </tr>\n",
       "    <tr>\n",
       "      <th>100</th>\n",
       "      <td>42 ST-BRYANT PK</td>\n",
       "      <td>BDFM7</td>\n",
       "      <td>1513367.0</td>\n",
       "    </tr>\n",
       "    <tr>\n",
       "      <th>121</th>\n",
       "      <td>59 ST</td>\n",
       "      <td>456NQRW</td>\n",
       "      <td>1417264.0</td>\n",
       "    </tr>\n",
       "    <tr>\n",
       "      <th>354</th>\n",
       "      <td>LEXINGTON AV/53</td>\n",
       "      <td>EM6</td>\n",
       "      <td>1374666.0</td>\n",
       "    </tr>\n",
       "    <tr>\n",
       "      <th>138</th>\n",
       "      <td>72 ST</td>\n",
       "      <td>123</td>\n",
       "      <td>1315561.0</td>\n",
       "    </tr>\n",
       "  </tbody>\n",
       "</table>\n",
       "</div>"
      ],
      "text/plain": [
       "             STATION      LINENAME   TRAFFIC\n",
       "311  GRD CNTRL-42 ST         4567S 4674682.0\n",
       "89   34 ST-HERALD SQ      BDFMNQRW 4135182.0\n",
       "93    34 ST-PENN STA           ACE 2813152.0\n",
       "102  42 ST-PORT AUTH  ACENQRS1237W 2601006.0\n",
       "28    14 ST-UNION SQ      LNQR456W 2462741.0\n",
       "441   TIMES SQ-42 ST  1237ACENQRSW 2301817.0\n",
       "301        FULTON ST      2345ACJZ 2158137.0\n",
       "288    FLUSHING-MAIN             7 2100806.0\n",
       "106   47-50 STS ROCK          BDFM 2048829.0\n",
       "125   59 ST COLUMBUS         ABCD1 2014126.0\n",
       "399     PATH NEW WTC             1 1780716.0\n",
       "338  JKSN HT-ROOSVLT         EFMR7 1645401.0\n",
       "452   W 4 ST-WASH SQ       ABCDEFM 1622765.0\n",
       "92    34 ST-PENN STA        123ACE 1611276.0\n",
       "156            86 ST           456 1543282.0\n",
       "234         CANAL ST       JNQRZ6W 1540584.0\n",
       "100  42 ST-BRYANT PK         BDFM7 1513367.0\n",
       "121            59 ST       456NQRW 1417264.0\n",
       "354  LEXINGTON AV/53           EM6 1374666.0\n",
       "138            72 ST           123 1315561.0"
      ]
     },
     "execution_count": 35,
     "metadata": {},
     "output_type": "execute_result"
    }
   ],
   "source": [
    "total_station_traffic.sort_values(by=\"TRAFFIC\", ascending=False).head(20)"
   ]
  },
  {
   "cell_type": "code",
   "execution_count": null,
   "metadata": {},
   "outputs": [],
   "source": []
  }
 ],
 "metadata": {
  "kernelspec": {
   "display_name": "Python 3",
   "language": "python",
   "name": "python3"
  },
  "language_info": {
   "codemirror_mode": {
    "name": "ipython",
    "version": 3
   },
   "file_extension": ".py",
   "mimetype": "text/x-python",
   "name": "python",
   "nbconvert_exporter": "python",
   "pygments_lexer": "ipython3",
   "version": "3.7.6"
  }
 },
 "nbformat": 4,
 "nbformat_minor": 4
}
